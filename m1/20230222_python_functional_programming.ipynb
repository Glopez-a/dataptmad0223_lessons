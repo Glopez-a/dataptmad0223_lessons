{
 "cells": [
  {
   "cell_type": "markdown",
   "id": "edbd153f",
   "metadata": {},
   "source": [
    "# Programming Paradigms\n",
    "---"
   ]
  },
  {
   "cell_type": "markdown",
   "id": "a188f917",
   "metadata": {},
   "source": [
    "> ### Procedural\n",
    "\n",
    "- Write sequential series of execution steps/tasks\n",
    "\n",
    "- \"Top to bottom\" code execution\n",
    "\n",
    "> ### Functional\n",
    "\n",
    "- Organize code in functions with clearly defined tasks\n",
    "\n",
    "- Pass data around via parameters\n",
    "\n",
    "> ### Object-oriented*\n",
    "\n",
    "- Organize data and logic in objects (attributes and methods)\n",
    "\n",
    "- Organize code in logical entities"
   ]
  },
  {
   "cell_type": "markdown",
   "id": "33666ce3",
   "metadata": {},
   "source": [
    "---"
   ]
  },
  {
   "cell_type": "code",
   "execution_count": null,
   "id": "0597716d",
   "metadata": {},
   "outputs": [],
   "source": [
    "# Data\n",
    "\n",
    "female_students = ['BRUna',\n",
    "                   'hERMINIA',\n",
    "                   'lourDES',\n",
    "                   'MaRgArItA']\n",
    "\n",
    "male_students = ['CHristiAN',\n",
    "                 'DaNiel',\n",
    "                 'DIEGo',\n",
    "                 'GonZALO',\n",
    "                 'JUAN',\n",
    "                 'magNo',\n",
    "                 'MUjib']"
   ]
  },
  {
   "cell_type": "code",
   "execution_count": null,
   "id": "a326eb56",
   "metadata": {},
   "outputs": [],
   "source": [
    "male_students"
   ]
  },
  {
   "cell_type": "code",
   "execution_count": null,
   "id": "09d391c0",
   "metadata": {},
   "outputs": [],
   "source": [
    "# Procedural\n",
    "\n",
    "new_value = input('Please, enter a new value: ')\n",
    "\n",
    "female_students[0] = new_value\n",
    "\n",
    "female_students[1] = female_students[1].capitalize()\n",
    "\n",
    "female_students[2] = 'Lourdes'\n",
    "\n",
    "new_value = input('Please, enter a new value: ') \n",
    "\n",
    "female_students[3] = new_value\n",
    "\n",
    "print(female_students)"
   ]
  },
  {
   "cell_type": "code",
   "execution_count": null,
   "id": "bafdd708",
   "metadata": {},
   "outputs": [],
   "source": [
    "# Functional\n",
    "\n",
    "def replace_value(item_list, item_pos):\n",
    "    new_value = input('Please, enter a new value: ')\n",
    "    item_list[item_pos] = new_value\n",
    "    return f'You have changed the item at the position {item_pos} of the list'"
   ]
  },
  {
   "cell_type": "code",
   "execution_count": null,
   "id": "a992460e",
   "metadata": {},
   "outputs": [],
   "source": [
    "replace_value(female_students, 0)"
   ]
  },
  {
   "cell_type": "code",
   "execution_count": null,
   "id": "4be89030",
   "metadata": {},
   "outputs": [],
   "source": [
    "female_students"
   ]
  },
  {
   "cell_type": "code",
   "execution_count": null,
   "id": "5314c1ff",
   "metadata": {},
   "outputs": [],
   "source": [
    "def svenska_namn(item_list, item_pos):\n",
    "    svenska_namn = item_list[item_pos]\n",
    "    return f'{svenska_namn}son'"
   ]
  },
  {
   "cell_type": "code",
   "execution_count": null,
   "id": "54462c47",
   "metadata": {},
   "outputs": [],
   "source": [
    "[svenska_namn(male_students, item) for item in range(len(male_students))]"
   ]
  },
  {
   "cell_type": "code",
   "execution_count": null,
   "id": "b20468b0",
   "metadata": {},
   "outputs": [],
   "source": [
    "def function(z):\n",
    "    x = 1\n",
    "    y = 2\n",
    "    z = x * y\n",
    "    print(z)\n",
    "    return z"
   ]
  },
  {
   "cell_type": "code",
   "execution_count": null,
   "id": "10820fe2",
   "metadata": {},
   "outputs": [],
   "source": [
    "function(5)"
   ]
  },
  {
   "cell_type": "code",
   "execution_count": null,
   "id": "507f6ae2",
   "metadata": {},
   "outputs": [],
   "source": [
    "x = print(5)\n",
    "print(x)"
   ]
  },
  {
   "cell_type": "markdown",
   "id": "3c91e180",
   "metadata": {},
   "source": [
    "---"
   ]
  },
  {
   "cell_type": "markdown",
   "id": "5598d6b8",
   "metadata": {},
   "source": [
    "__Some considerations__"
   ]
  },
  {
   "cell_type": "code",
   "execution_count": null,
   "id": "4ea373c5",
   "metadata": {},
   "outputs": [],
   "source": [
    "# Global vs. Local variables\n",
    "\n",
    "a = 1\n",
    "\n",
    "def sum_function_global(b):\n",
    "    #global a   # bad idea...\n",
    "    a = a + b\n",
    "    return a"
   ]
  },
  {
   "cell_type": "code",
   "execution_count": null,
   "id": "83cf3704",
   "metadata": {},
   "outputs": [],
   "source": [
    "sum_function_global(8)"
   ]
  },
  {
   "cell_type": "code",
   "execution_count": null,
   "id": "c153d64a",
   "metadata": {},
   "outputs": [],
   "source": [
    "a = 1\n",
    "\n",
    "def sum_function_local(b):\n",
    "    c = a + b\n",
    "    return c"
   ]
  },
  {
   "cell_type": "code",
   "execution_count": null,
   "id": "df62ea7e",
   "metadata": {},
   "outputs": [],
   "source": [
    "sum_function_local(8)"
   ]
  },
  {
   "cell_type": "code",
   "execution_count": null,
   "id": "012d380a",
   "metadata": {
    "scrolled": true
   },
   "outputs": [],
   "source": [
    "print(c)"
   ]
  },
  {
   "cell_type": "markdown",
   "id": "f46eec45",
   "metadata": {},
   "source": [
    "---"
   ]
  },
  {
   "cell_type": "code",
   "execution_count": null,
   "id": "06857471",
   "metadata": {},
   "outputs": [],
   "source": [
    "# Mutability\n",
    "\n",
    "import random\n",
    "\n",
    "a = []\n",
    "\n",
    "def append_random(l=[3, 4, 5]):\n",
    "    print(a)\n",
    "    random_int = random.randint(1, 2000)\n",
    "    l.append(random_int)\n",
    "    print(l)\n",
    "    print('be careful with mutability and default arguments')"
   ]
  },
  {
   "cell_type": "code",
   "execution_count": null,
   "id": "1f4a0d2b",
   "metadata": {},
   "outputs": [],
   "source": [
    "append_random()"
   ]
  },
  {
   "cell_type": "markdown",
   "id": "80e10bc6",
   "metadata": {},
   "source": [
    "---"
   ]
  },
  {
   "cell_type": "code",
   "execution_count": null,
   "id": "0888352b",
   "metadata": {},
   "outputs": [],
   "source": [
    "# Undefined arguments (*args)\n",
    "\n",
    "def name_cleaner(*pepe):\n",
    "    return [name.capitalize() for name in pepe]"
   ]
  },
  {
   "cell_type": "code",
   "execution_count": null,
   "id": "eb4c8981",
   "metadata": {},
   "outputs": [],
   "source": [
    "name_cleaner('CHristiAN', 'DaNiel', 'DIEGo', 'GonZALO', 'JUAN', 'magNo', 'MUjib')"
   ]
  },
  {
   "cell_type": "markdown",
   "id": "c2a9acbb",
   "metadata": {},
   "source": [
    "---"
   ]
  },
  {
   "cell_type": "code",
   "execution_count": null,
   "id": "083aed69",
   "metadata": {},
   "outputs": [],
   "source": [
    "# Undefined arguments with key (**kwargs)\n",
    "\n",
    "def fullname_cleaner(**parametro):\n",
    "    return parametro"
   ]
  },
  {
   "cell_type": "code",
   "execution_count": null,
   "id": "6078505b",
   "metadata": {},
   "outputs": [],
   "source": [
    "fullname_cleaner(name='Napoleon', surname='Bonaparte', laflasnñlfansdlfnas=6516161681, iadasdnmsand='ya es tarde')"
   ]
  },
  {
   "cell_type": "code",
   "execution_count": null,
   "id": "e4bffd43",
   "metadata": {},
   "outputs": [],
   "source": [
    "fullname_cleaner(names=['Gengis', 'Clint', 'Marlon'], surnames=['Kahn', 'Eastwood', 'Brando'])"
   ]
  },
  {
   "cell_type": "code",
   "execution_count": null,
   "id": "9c688d9c",
   "metadata": {},
   "outputs": [],
   "source": [
    "def fullname_cleaner(**kwargs):\n",
    "    clean_name = kwargs['name'].capitalize()\n",
    "    clean_surname = kwargs['surname'].capitalize()\n",
    "    return f'{clean_name} {clean_surname}'"
   ]
  },
  {
   "cell_type": "code",
   "execution_count": null,
   "id": "76bf6f59",
   "metadata": {},
   "outputs": [],
   "source": [
    "fullname_cleaner(name='dONALD', surname='TRUMP')"
   ]
  },
  {
   "cell_type": "markdown",
   "id": "ded39dfa",
   "metadata": {},
   "source": [
    "__OOP for the next episode...__"
   ]
  }
 ],
 "metadata": {
  "kernelspec": {
   "display_name": "Python [conda env:.conda-ironhack]",
   "language": "python",
   "name": "conda-env-.conda-ironhack-py"
  },
  "language_info": {
   "codemirror_mode": {
    "name": "ipython",
    "version": 3
   },
   "file_extension": ".py",
   "mimetype": "text/x-python",
   "name": "python",
   "nbconvert_exporter": "python",
   "pygments_lexer": "ipython3",
   "version": "3.7.11"
  }
 },
 "nbformat": 4,
 "nbformat_minor": 5
}

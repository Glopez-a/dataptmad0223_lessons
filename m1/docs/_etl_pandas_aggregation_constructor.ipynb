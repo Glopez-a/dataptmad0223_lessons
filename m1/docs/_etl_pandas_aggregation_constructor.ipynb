{
 "cells": [
  {
   "cell_type": "markdown",
   "id": "98a10ec3",
   "metadata": {},
   "source": [
    "# EXTRA: Data Aggregation Constructor"
   ]
  },
  {
   "cell_type": "code",
   "execution_count": 1,
   "id": "6837c5c1",
   "metadata": {},
   "outputs": [],
   "source": [
    "import zipfile     # pip install zipfile36\n",
    "import pandas as pd"
   ]
  },
  {
   "cell_type": "code",
   "execution_count": 2,
   "id": "75b3e616",
   "metadata": {},
   "outputs": [
    {
     "name": "stdout",
     "output_type": "stream",
     "text": [
      "Wall time: 24.3 s\n"
     ]
    }
   ],
   "source": [
    "%%time\n",
    "\n",
    "df = pd.read_csv('./tiques_ser_3T_2022.zip', compression='zip', sep=';', low_memory=False)\n",
    "#df = pd.read_csv('./2022T1-SER-uso-parquimetros.csv', sep=';')"
   ]
  },
  {
   "cell_type": "code",
   "execution_count": 3,
   "id": "d3b207bb",
   "metadata": {},
   "outputs": [
    {
     "data": {
      "text/html": [
       "<div>\n",
       "<style scoped>\n",
       "    .dataframe tbody tr th:only-of-type {\n",
       "        vertical-align: middle;\n",
       "    }\n",
       "\n",
       "    .dataframe tbody tr th {\n",
       "        vertical-align: top;\n",
       "    }\n",
       "\n",
       "    .dataframe thead th {\n",
       "        text-align: right;\n",
       "    }\n",
       "</style>\n",
       "<table border=\"1\" class=\"dataframe\">\n",
       "  <thead>\n",
       "    <tr style=\"text-align: right;\">\n",
       "      <th></th>\n",
       "      <th>matricula_parquimetro</th>\n",
       "      <th>fecha_operacion</th>\n",
       "      <th>fecha_inicio</th>\n",
       "      <th>fecha_fin</th>\n",
       "      <th>cod_distrito</th>\n",
       "      <th>distrito</th>\n",
       "      <th>cod_barrio</th>\n",
       "      <th>barrio</th>\n",
       "      <th>tipo_zona</th>\n",
       "      <th>distintivo</th>\n",
       "      <th>minutos_tique</th>\n",
       "      <th>importe_tique</th>\n",
       "    </tr>\n",
       "  </thead>\n",
       "  <tbody>\n",
       "    <tr>\n",
       "      <th>0</th>\n",
       "      <td>106120283</td>\n",
       "      <td>2022-07-01 19:04:01</td>\n",
       "      <td>2022-07-01 19:03:39</td>\n",
       "      <td>2022-07-01 20:18:39</td>\n",
       "      <td>6</td>\n",
       "      <td>TETUAN</td>\n",
       "      <td>1</td>\n",
       "      <td>BELLAS VISTAS</td>\n",
       "      <td>COMERCIALES</td>\n",
       "      <td>INFORMACION NO DISPONIBLE</td>\n",
       "      <td>75</td>\n",
       "      <td>0,00</td>\n",
       "    </tr>\n",
       "    <tr>\n",
       "      <th>1</th>\n",
       "      <td>106120283</td>\n",
       "      <td>2022-07-01 19:56:01</td>\n",
       "      <td>2022-07-01 19:55:23</td>\n",
       "      <td>2022-07-01 20:54:23</td>\n",
       "      <td>6</td>\n",
       "      <td>TETUAN</td>\n",
       "      <td>1</td>\n",
       "      <td>BELLAS VISTAS</td>\n",
       "      <td>AZUL</td>\n",
       "      <td>B</td>\n",
       "      <td>59</td>\n",
       "      <td>3,45</td>\n",
       "    </tr>\n",
       "    <tr>\n",
       "      <th>2</th>\n",
       "      <td>106120283</td>\n",
       "      <td>2022-07-02 09:08:58</td>\n",
       "      <td>2022-07-02 09:06:03</td>\n",
       "      <td>2022-07-02 12:00:03</td>\n",
       "      <td>6</td>\n",
       "      <td>TETUAN</td>\n",
       "      <td>1</td>\n",
       "      <td>BELLAS VISTAS</td>\n",
       "      <td>AZUL</td>\n",
       "      <td>C</td>\n",
       "      <td>174</td>\n",
       "      <td>4,40</td>\n",
       "    </tr>\n",
       "    <tr>\n",
       "      <th>3</th>\n",
       "      <td>106120283</td>\n",
       "      <td>2022-07-02 12:43:54</td>\n",
       "      <td>2022-07-02 12:43:30</td>\n",
       "      <td>2022-07-02 13:21:30</td>\n",
       "      <td>6</td>\n",
       "      <td>TETUAN</td>\n",
       "      <td>1</td>\n",
       "      <td>BELLAS VISTAS</td>\n",
       "      <td>AZUL</td>\n",
       "      <td>B</td>\n",
       "      <td>38</td>\n",
       "      <td>1,00</td>\n",
       "    </tr>\n",
       "    <tr>\n",
       "      <th>4</th>\n",
       "      <td>106120283</td>\n",
       "      <td>2022-07-02 12:59:11</td>\n",
       "      <td>2022-07-02 13:01:48</td>\n",
       "      <td>2022-07-02 14:03:48</td>\n",
       "      <td>6</td>\n",
       "      <td>TETUAN</td>\n",
       "      <td>1</td>\n",
       "      <td>BELLAS VISTAS</td>\n",
       "      <td>AZUL</td>\n",
       "      <td>C</td>\n",
       "      <td>62</td>\n",
       "      <td>2,80</td>\n",
       "    </tr>\n",
       "  </tbody>\n",
       "</table>\n",
       "</div>"
      ],
      "text/plain": [
       "  matricula_parquimetro      fecha_operacion         fecha_inicio  \\\n",
       "0             106120283  2022-07-01 19:04:01  2022-07-01 19:03:39   \n",
       "1             106120283  2022-07-01 19:56:01  2022-07-01 19:55:23   \n",
       "2             106120283  2022-07-02 09:08:58  2022-07-02 09:06:03   \n",
       "3             106120283  2022-07-02 12:43:54  2022-07-02 12:43:30   \n",
       "4             106120283  2022-07-02 12:59:11  2022-07-02 13:01:48   \n",
       "\n",
       "             fecha_fin  cod_distrito distrito  cod_barrio         barrio  \\\n",
       "0  2022-07-01 20:18:39             6   TETUAN           1  BELLAS VISTAS   \n",
       "1  2022-07-01 20:54:23             6   TETUAN           1  BELLAS VISTAS   \n",
       "2  2022-07-02 12:00:03             6   TETUAN           1  BELLAS VISTAS   \n",
       "3  2022-07-02 13:21:30             6   TETUAN           1  BELLAS VISTAS   \n",
       "4  2022-07-02 14:03:48             6   TETUAN           1  BELLAS VISTAS   \n",
       "\n",
       "     tipo_zona                 distintivo  minutos_tique importe_tique  \n",
       "0  COMERCIALES  INFORMACION NO DISPONIBLE             75          0,00  \n",
       "1         AZUL                          B             59          3,45  \n",
       "2         AZUL                          C            174          4,40  \n",
       "3         AZUL                          B             38          1,00  \n",
       "4         AZUL                          C             62          2,80  "
      ]
     },
     "execution_count": 3,
     "metadata": {},
     "output_type": "execute_result"
    }
   ],
   "source": [
    "df.head()"
   ]
  },
  {
   "cell_type": "code",
   "execution_count": 4,
   "id": "901809b9",
   "metadata": {},
   "outputs": [
    {
     "name": "stdout",
     "output_type": "stream",
     "text": [
      "<class 'pandas.core.frame.DataFrame'>\n",
      "RangeIndex: 9024425 entries, 0 to 9024424\n",
      "Data columns (total 12 columns):\n",
      " #   Column                 Dtype \n",
      "---  ------                 ----- \n",
      " 0   matricula_parquimetro  object\n",
      " 1   fecha_operacion        object\n",
      " 2   fecha_inicio           object\n",
      " 3   fecha_fin              object\n",
      " 4   cod_distrito           int64 \n",
      " 5   distrito               object\n",
      " 6   cod_barrio             int64 \n",
      " 7   barrio                 object\n",
      " 8   tipo_zona              object\n",
      " 9   distintivo             object\n",
      " 10  minutos_tique          int64 \n",
      " 11  importe_tique          object\n",
      "dtypes: int64(3), object(9)\n",
      "memory usage: 826.2+ MB\n"
     ]
    }
   ],
   "source": [
    "df.info()"
   ]
  },
  {
   "cell_type": "code",
   "execution_count": 5,
   "id": "119805f7",
   "metadata": {},
   "outputs": [
    {
     "data": {
      "text/plain": [
       "matricula_parquimetro         0\n",
       "fecha_operacion               0\n",
       "fecha_inicio                  0\n",
       "fecha_fin                     0\n",
       "cod_distrito                  0\n",
       "distrito                 239058\n",
       "cod_barrio                    0\n",
       "barrio                        0\n",
       "tipo_zona                 34716\n",
       "distintivo                    0\n",
       "minutos_tique                 0\n",
       "importe_tique                 0\n",
       "dtype: int64"
      ]
     },
     "execution_count": 5,
     "metadata": {},
     "output_type": "execute_result"
    }
   ],
   "source": [
    "df.isnull().sum()"
   ]
  },
  {
   "cell_type": "code",
   "execution_count": 6,
   "id": "95b25a3c",
   "metadata": {},
   "outputs": [],
   "source": [
    "df['importe_tique'] = df['importe_tique'].str.replace(',', '.').astype('float64')\n",
    "df['matricula_parquimetro'] = df['matricula_parquimetro'].astype('str')"
   ]
  },
  {
   "cell_type": "code",
   "execution_count": 7,
   "id": "0c6d8066",
   "metadata": {},
   "outputs": [
    {
     "data": {
      "text/html": [
       "<div>\n",
       "<style scoped>\n",
       "    .dataframe tbody tr th:only-of-type {\n",
       "        vertical-align: middle;\n",
       "    }\n",
       "\n",
       "    .dataframe tbody tr th {\n",
       "        vertical-align: top;\n",
       "    }\n",
       "\n",
       "    .dataframe thead th {\n",
       "        text-align: right;\n",
       "    }\n",
       "</style>\n",
       "<table border=\"1\" class=\"dataframe\">\n",
       "  <thead>\n",
       "    <tr style=\"text-align: right;\">\n",
       "      <th></th>\n",
       "      <th>cod_distrito</th>\n",
       "      <th>distrito</th>\n",
       "    </tr>\n",
       "  </thead>\n",
       "  <tbody>\n",
       "    <tr>\n",
       "      <th>0</th>\n",
       "      <td>1</td>\n",
       "      <td>CENTRO</td>\n",
       "    </tr>\n",
       "    <tr>\n",
       "      <th>1</th>\n",
       "      <td>2</td>\n",
       "      <td>ARGANZUELA</td>\n",
       "    </tr>\n",
       "    <tr>\n",
       "      <th>2</th>\n",
       "      <td>3</td>\n",
       "      <td>RETIRO</td>\n",
       "    </tr>\n",
       "    <tr>\n",
       "      <th>3</th>\n",
       "      <td>4</td>\n",
       "      <td>SALAMANCA</td>\n",
       "    </tr>\n",
       "    <tr>\n",
       "      <th>4</th>\n",
       "      <td>5</td>\n",
       "      <td>CHAMARTIN</td>\n",
       "    </tr>\n",
       "  </tbody>\n",
       "</table>\n",
       "</div>"
      ],
      "text/plain": [
       "   cod_distrito    distrito\n",
       "0             1      CENTRO\n",
       "1             2  ARGANZUELA\n",
       "2             3      RETIRO\n",
       "3             4   SALAMANCA\n",
       "4             5   CHAMARTIN"
      ]
     },
     "execution_count": 7,
     "metadata": {},
     "output_type": "execute_result"
    }
   ],
   "source": [
    "df_distritos = df[['cod_distrito', 'distrito']].drop_duplicates().sort_values(by='cod_distrito').reset_index(drop=True)\n",
    "df_distritos.head()"
   ]
  },
  {
   "cell_type": "code",
   "execution_count": 8,
   "id": "f004dfcf",
   "metadata": {},
   "outputs": [
    {
     "data": {
      "text/html": [
       "<div>\n",
       "<style scoped>\n",
       "    .dataframe tbody tr th:only-of-type {\n",
       "        vertical-align: middle;\n",
       "    }\n",
       "\n",
       "    .dataframe tbody tr th {\n",
       "        vertical-align: top;\n",
       "    }\n",
       "\n",
       "    .dataframe thead th {\n",
       "        text-align: right;\n",
       "    }\n",
       "</style>\n",
       "<table border=\"1\" class=\"dataframe\">\n",
       "  <thead>\n",
       "    <tr style=\"text-align: right;\">\n",
       "      <th></th>\n",
       "      <th>cod_distrito</th>\n",
       "      <th>cod_barrio</th>\n",
       "      <th>barrio</th>\n",
       "    </tr>\n",
       "  </thead>\n",
       "  <tbody>\n",
       "    <tr>\n",
       "      <th>0</th>\n",
       "      <td>1</td>\n",
       "      <td>1</td>\n",
       "      <td>PALACIO</td>\n",
       "    </tr>\n",
       "    <tr>\n",
       "      <th>1</th>\n",
       "      <td>1</td>\n",
       "      <td>2</td>\n",
       "      <td>EMBAJADORES</td>\n",
       "    </tr>\n",
       "    <tr>\n",
       "      <th>2</th>\n",
       "      <td>1</td>\n",
       "      <td>3</td>\n",
       "      <td>CORTES</td>\n",
       "    </tr>\n",
       "    <tr>\n",
       "      <th>3</th>\n",
       "      <td>1</td>\n",
       "      <td>4</td>\n",
       "      <td>JUSTICIA</td>\n",
       "    </tr>\n",
       "    <tr>\n",
       "      <th>4</th>\n",
       "      <td>1</td>\n",
       "      <td>5</td>\n",
       "      <td>UNIVERSIDAD</td>\n",
       "    </tr>\n",
       "  </tbody>\n",
       "</table>\n",
       "</div>"
      ],
      "text/plain": [
       "   cod_distrito  cod_barrio       barrio\n",
       "0             1           1      PALACIO\n",
       "1             1           2  EMBAJADORES\n",
       "2             1           3       CORTES\n",
       "3             1           4     JUSTICIA\n",
       "4             1           5  UNIVERSIDAD"
      ]
     },
     "execution_count": 8,
     "metadata": {},
     "output_type": "execute_result"
    }
   ],
   "source": [
    "df_barrios = df[['cod_distrito', 'cod_barrio', 'barrio']].drop_duplicates()\\\n",
    ".sort_values(by=['cod_distrito', 'cod_barrio']).reset_index(drop=True)\n",
    "df_barrios.head()"
   ]
  },
  {
   "cell_type": "code",
   "execution_count": 9,
   "id": "3da735b5",
   "metadata": {},
   "outputs": [
    {
     "data": {
      "text/html": [
       "<div>\n",
       "<style scoped>\n",
       "    .dataframe tbody tr th:only-of-type {\n",
       "        vertical-align: middle;\n",
       "    }\n",
       "\n",
       "    .dataframe tbody tr th {\n",
       "        vertical-align: top;\n",
       "    }\n",
       "\n",
       "    .dataframe thead th {\n",
       "        text-align: right;\n",
       "    }\n",
       "</style>\n",
       "<table border=\"1\" class=\"dataframe\">\n",
       "  <thead>\n",
       "    <tr style=\"text-align: right;\">\n",
       "      <th></th>\n",
       "      <th>matricula_parquimetro</th>\n",
       "      <th>fecha_operacion</th>\n",
       "      <th>fecha_inicio</th>\n",
       "      <th>fecha_fin</th>\n",
       "      <th>cod_distrito</th>\n",
       "      <th>cod_barrio</th>\n",
       "      <th>tipo_zona</th>\n",
       "      <th>distintivo</th>\n",
       "      <th>minutos_tique</th>\n",
       "      <th>importe_tique</th>\n",
       "    </tr>\n",
       "  </thead>\n",
       "  <tbody>\n",
       "    <tr>\n",
       "      <th>0</th>\n",
       "      <td>106120283</td>\n",
       "      <td>2022-07-01 19:04:01</td>\n",
       "      <td>2022-07-01 19:03:39</td>\n",
       "      <td>2022-07-01 20:18:39</td>\n",
       "      <td>6</td>\n",
       "      <td>1</td>\n",
       "      <td>COMERCIALES</td>\n",
       "      <td>INFORMACION NO DISPONIBLE</td>\n",
       "      <td>75</td>\n",
       "      <td>0.00</td>\n",
       "    </tr>\n",
       "    <tr>\n",
       "      <th>1</th>\n",
       "      <td>106120283</td>\n",
       "      <td>2022-07-01 19:56:01</td>\n",
       "      <td>2022-07-01 19:55:23</td>\n",
       "      <td>2022-07-01 20:54:23</td>\n",
       "      <td>6</td>\n",
       "      <td>1</td>\n",
       "      <td>AZUL</td>\n",
       "      <td>B</td>\n",
       "      <td>59</td>\n",
       "      <td>3.45</td>\n",
       "    </tr>\n",
       "    <tr>\n",
       "      <th>2</th>\n",
       "      <td>106120283</td>\n",
       "      <td>2022-07-02 09:08:58</td>\n",
       "      <td>2022-07-02 09:06:03</td>\n",
       "      <td>2022-07-02 12:00:03</td>\n",
       "      <td>6</td>\n",
       "      <td>1</td>\n",
       "      <td>AZUL</td>\n",
       "      <td>C</td>\n",
       "      <td>174</td>\n",
       "      <td>4.40</td>\n",
       "    </tr>\n",
       "    <tr>\n",
       "      <th>3</th>\n",
       "      <td>106120283</td>\n",
       "      <td>2022-07-02 12:43:54</td>\n",
       "      <td>2022-07-02 12:43:30</td>\n",
       "      <td>2022-07-02 13:21:30</td>\n",
       "      <td>6</td>\n",
       "      <td>1</td>\n",
       "      <td>AZUL</td>\n",
       "      <td>B</td>\n",
       "      <td>38</td>\n",
       "      <td>1.00</td>\n",
       "    </tr>\n",
       "    <tr>\n",
       "      <th>4</th>\n",
       "      <td>106120283</td>\n",
       "      <td>2022-07-02 12:59:11</td>\n",
       "      <td>2022-07-02 13:01:48</td>\n",
       "      <td>2022-07-02 14:03:48</td>\n",
       "      <td>6</td>\n",
       "      <td>1</td>\n",
       "      <td>AZUL</td>\n",
       "      <td>C</td>\n",
       "      <td>62</td>\n",
       "      <td>2.80</td>\n",
       "    </tr>\n",
       "  </tbody>\n",
       "</table>\n",
       "</div>"
      ],
      "text/plain": [
       "  matricula_parquimetro      fecha_operacion         fecha_inicio  \\\n",
       "0             106120283  2022-07-01 19:04:01  2022-07-01 19:03:39   \n",
       "1             106120283  2022-07-01 19:56:01  2022-07-01 19:55:23   \n",
       "2             106120283  2022-07-02 09:08:58  2022-07-02 09:06:03   \n",
       "3             106120283  2022-07-02 12:43:54  2022-07-02 12:43:30   \n",
       "4             106120283  2022-07-02 12:59:11  2022-07-02 13:01:48   \n",
       "\n",
       "             fecha_fin  cod_distrito  cod_barrio    tipo_zona  \\\n",
       "0  2022-07-01 20:18:39             6           1  COMERCIALES   \n",
       "1  2022-07-01 20:54:23             6           1         AZUL   \n",
       "2  2022-07-02 12:00:03             6           1         AZUL   \n",
       "3  2022-07-02 13:21:30             6           1         AZUL   \n",
       "4  2022-07-02 14:03:48             6           1         AZUL   \n",
       "\n",
       "                  distintivo  minutos_tique  importe_tique  \n",
       "0  INFORMACION NO DISPONIBLE             75           0.00  \n",
       "1                          B             59           3.45  \n",
       "2                          C            174           4.40  \n",
       "3                          B             38           1.00  \n",
       "4                          C             62           2.80  "
      ]
     },
     "execution_count": 9,
     "metadata": {},
     "output_type": "execute_result"
    }
   ],
   "source": [
    "drop_cols = ['distrito', 'barrio']\n",
    "df_small = df.drop(drop_cols, axis=1)\n",
    "df_small.head()"
   ]
  },
  {
   "cell_type": "code",
   "execution_count": 10,
   "id": "43931ec8",
   "metadata": {},
   "outputs": [
    {
     "name": "stdout",
     "output_type": "stream",
     "text": [
      "<class 'pandas.core.frame.DataFrame'>\n",
      "RangeIndex: 9024425 entries, 0 to 9024424\n",
      "Data columns (total 10 columns):\n",
      " #   Column                 Dtype  \n",
      "---  ------                 -----  \n",
      " 0   matricula_parquimetro  object \n",
      " 1   fecha_operacion        object \n",
      " 2   fecha_inicio           object \n",
      " 3   fecha_fin              object \n",
      " 4   cod_distrito           int64  \n",
      " 5   cod_barrio             int64  \n",
      " 6   tipo_zona              object \n",
      " 7   distintivo             object \n",
      " 8   minutos_tique          int64  \n",
      " 9   importe_tique          float64\n",
      "dtypes: float64(1), int64(3), object(6)\n",
      "memory usage: 688.5+ MB\n"
     ]
    }
   ],
   "source": [
    "df_small.info()"
   ]
  },
  {
   "cell_type": "code",
   "execution_count": 11,
   "id": "19432eb8",
   "metadata": {},
   "outputs": [],
   "source": [
    "df_barrios.to_csv('./output/barrios.csv', sep='\\t', index=False)"
   ]
  },
  {
   "cell_type": "code",
   "execution_count": 12,
   "id": "29b1b3f7",
   "metadata": {},
   "outputs": [],
   "source": [
    "df_distritos.to_csv('./output/distritos.csv', sep='\\t', index=False)"
   ]
  },
  {
   "cell_type": "code",
   "execution_count": 13,
   "id": "f3de0026",
   "metadata": {},
   "outputs": [
    {
     "name": "stdout",
     "output_type": "stream",
     "text": [
      "Wall time: 33.1 s\n"
     ]
    }
   ],
   "source": [
    "%%time\n",
    "\n",
    "df_small.to_csv('./output/tickets_parking.csv', index=False)"
   ]
  },
  {
   "cell_type": "code",
   "execution_count": 14,
   "id": "0f6e2947",
   "metadata": {},
   "outputs": [
    {
     "name": "stdout",
     "output_type": "stream",
     "text": [
      "Wall time: 9.47 s\n"
     ]
    }
   ],
   "source": [
    "%%time\n",
    "\n",
    "df_small.to_parquet('./output/tickets_parking.parquet')"
   ]
  },
  {
   "cell_type": "markdown",
   "id": "e5c2bc8e",
   "metadata": {},
   "source": [
    "---"
   ]
  }
 ],
 "metadata": {
  "kernelspec": {
   "display_name": "Python [conda env:.conda-ironhack]",
   "language": "python",
   "name": "conda-env-.conda-ironhack-py"
  },
  "language_info": {
   "codemirror_mode": {
    "name": "ipython",
    "version": 3
   },
   "file_extension": ".py",
   "mimetype": "text/x-python",
   "name": "python",
   "nbconvert_exporter": "python",
   "pygments_lexer": "ipython3",
   "version": "3.7.11"
  }
 },
 "nbformat": 4,
 "nbformat_minor": 5
}
